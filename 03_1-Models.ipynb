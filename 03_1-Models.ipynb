{
 "cells": [
  {
   "cell_type": "markdown",
   "metadata": {},
   "source": [
    "### Libraries"
   ]
  },
  {
   "cell_type": "code",
   "execution_count": null,
   "metadata": {},
   "outputs": [],
   "source": [
    "import time\n",
    "import shap\n",
    "import warnings\n",
    "import numpy as np\n",
    "import pandas as pd\n",
    "import seaborn as sns\n",
    "from collections import Counter\n",
    "from IPython.display import Image\n",
    "from sklearn.tree import export_graphviz\n",
    "\n",
    "from imblearn.over_sampling import SMOTE, ADASYN\n",
    "from skopt.space import Real, Categorical, Integer\n",
    "\n",
    "from sklearn.preprocessing import LabelEncoder, LabelBinarizer\n",
    "from sklearn.preprocessing import StandardScaler, MinMaxScaler\n",
    "import joblib\n",
    "from plot_roc import *\n",
    "\n",
    "from sklearn.metrics  import confusion_matrix, classification_report, roc_auc_score\n",
    "\n",
    "warnings.filterwarnings('ignore')"
   ]
  },
  {
   "cell_type": "markdown",
   "metadata": {},
   "source": [
    "### Read "
   ]
  },
  {
   "cell_type": "code",
   "execution_count": null,
   "metadata": {},
   "outputs": [],
   "source": [
    "warnings.filterwarnings('ignore')\n",
    "pd.set_option('display.max_columns', None)\n",
    "\n",
    "X_train = pd.read_csv(\"X_train.csv\", sep = \";\")\n",
    "X_test = pd.read_csv(\"X_test.csv\", sep = \";\")\n",
    "\n",
    "y_train = pd.read_csv(\"y_train.csv\", sep = \";\")\n",
    "y_test = pd.read_csv(\"y_test.csv\", sep = \";\")\n",
    "\n",
    "X_train.head()"
   ]
  },
  {
   "cell_type": "code",
   "execution_count": null,
   "metadata": {},
   "outputs": [],
   "source": [
    "## removendo variáveis \n",
    "X_train = X_train.drop([\n",
    "'H1RFV', 'H1LFV', 'H1RRO'\n",
    "], axis=1)\n",
    "\n",
    "X_test = X_test.drop([\n",
    "'H1RFV', 'H1LFV', 'H1RRO'\n",
    "], axis=1)"
   ]
  },
  {
   "cell_type": "code",
   "execution_count": null,
   "metadata": {},
   "outputs": [],
   "source": [
    "def prepare_targets(y_train, y_test):\n",
    "    le = LabelEncoder()\n",
    "    le.fit(y_train)\n",
    "    y_train_enc = le.transform(y_train)\n",
    "    y_test_enc = le.transform(y_test)\n",
    "    \n",
    "    return y_train_enc, y_test_enc"
   ]
  },
  {
   "cell_type": "code",
   "execution_count": null,
   "metadata": {},
   "outputs": [],
   "source": [
    "y_train_enc, y_test_enc = prepare_targets(y_train, y_test)"
   ]
  },
  {
   "cell_type": "code",
   "execution_count": null,
   "metadata": {},
   "outputs": [],
   "source": [
    "y_train.GR.value_counts()"
   ]
  },
  {
   "cell_type": "code",
   "execution_count": null,
   "metadata": {},
   "outputs": [],
   "source": [
    "y_test.GR.value_counts()"
   ]
  },
  {
   "cell_type": "code",
   "execution_count": null,
   "metadata": {},
   "outputs": [],
   "source": [
    "y_test_enc"
   ]
  },
  {
   "cell_type": "code",
   "execution_count": null,
   "metadata": {},
   "outputs": [],
   "source": [
    "# y_test"
   ]
  },
  {
   "cell_type": "code",
   "execution_count": null,
   "metadata": {},
   "outputs": [],
   "source": [
    "X_test.head(5)"
   ]
  },
  {
   "cell_type": "markdown",
   "metadata": {},
   "source": [
    "## Predict"
   ]
  },
  {
   "cell_type": "code",
   "execution_count": null,
   "metadata": {},
   "outputs": [],
   "source": [
    "def fit_and_print(model, X_test, y_enc):\n",
    "    y_pred = model.predict(X_test)\n",
    "    # print(\"Confusion Matrix: \\n\", confusion_matrix(y_test_enc, y_pred))\n",
    "    sns.heatmap(confusion_matrix(y_enc, y_pred), annot=True)\n",
    "    print(\"Classification Report: \\n\", classification_report(y_enc, y_pred))  \n",
    "\n",
    "\n",
    "def fit_and_print_v2(model, X_test):\n",
    "    y_pred = model.predict(X_test)\n",
    "    cm = confusion_matrix(y_test_enc, y_pred)\n",
    "    index =[\"A\", \"B\", \"C\"]\n",
    "    columns =[\"A\", \"B\", \"C\"]\n",
    "    cm_df = pd.DataFrame(cm,columns,index)                      \n",
    "    plt.figure(figsize=(8,6))  \n",
    "    sns.heatmap(cm_df, annot=True)\n",
    "    print(\"Classification Report: \\n\", classification_report(y_test_enc, y_pred))  \n",
    "\n",
    "    lb = LabelBinarizer()\n",
    "    lb.fit(y_test_enc)\n",
    "    y_test = lb.transform(y_test_enc)\n",
    "    y_pred = lb.transform(y_pred)\n",
    "\n",
    "\n",
    "    roc_auc = roc_auc_score(y_test, y_pred, multi_class = 'ovr', average=None)\n",
    "    gini = 2*roc_auc -1\n",
    "    print(\"Gini: \",gini)\n",
    "    print(\"ROC AUC:: \",roc_auc)"
   ]
  },
  {
   "cell_type": "code",
   "execution_count": null,
   "metadata": {},
   "outputs": [],
   "source": [
    "file_std = \"./models/std.pickle\"\n",
    "\n",
    "std = joblib.load(file_std)"
   ]
  },
  {
   "cell_type": "code",
   "execution_count": null,
   "metadata": {},
   "outputs": [],
   "source": [
    "X_train_std = std.transform(X_train)\n",
    "X_test_std = std.transform(X_test)"
   ]
  },
  {
   "cell_type": "markdown",
   "metadata": {},
   "source": [
    "### Random Forest "
   ]
  },
  {
   "cell_type": "code",
   "execution_count": null,
   "metadata": {},
   "outputs": [],
   "source": [
    "filename = './models/RF_best_bayes.sav'\n",
    "\n",
    "\n",
    "RF_best = joblib.load(filename)\n",
    "y_pred = RF_best.predict(X_test_std)\n",
    "plot_roc_curve(y_test_enc, y_pred)"
   ]
  },
  {
   "cell_type": "code",
   "execution_count": null,
   "metadata": {},
   "outputs": [],
   "source": [
    "# fit_and_print(RF_best, X_test, y_test_enc)\n",
    "fit_and_print_v2(RF_best, X_test_std)"
   ]
  },
  {
   "cell_type": "code",
   "execution_count": null,
   "metadata": {},
   "outputs": [],
   "source": [
    "prob_test = RF_best.predict_proba(X_test_std)[:,1]"
   ]
  },
  {
   "cell_type": "code",
   "execution_count": null,
   "metadata": {},
   "outputs": [],
   "source": [
    "data=pd.DataFrame()\n",
    "data['GR'] = y_test.GR\n",
    "data[\"Probability\"] = RF_best.predict_proba(X_test_std)[:,0]\n",
    "plt.xlim(.0, 1.)\n",
    "g = sns.kdeplot(data[\"Probability\"][(data[\"GR\"] == \"A\") & (data[\"Probability\"].notnull())], color=\"Blue\", shade = True)\n",
    "g = sns.kdeplot(data[\"Probability\"][(data[\"GR\"] == \"B\") & (data[\"Probability\"].notnull())], ax =g, color=\"Green\", shade= True)\n",
    "g = sns.kdeplot(data[\"Probability\"][(data[\"GR\"] == \"C\") & (data[\"Probability\"].notnull())], ax =g, color=\"Purple\", shade= True)\n",
    "g.set_xlabel(\"Probability\")\n",
    "g.set_ylabel(\"Count\")\n",
    "g = g.legend([\"A\",\"B\", \"C\"])"
   ]
  },
  {
   "cell_type": "code",
   "execution_count": null,
   "metadata": {},
   "outputs": [],
   "source": [
    "plt.xlim(.0, 1.)\n",
    "\n",
    "sns.kdeplot(\n",
    "    data=data, x=\"Probability\", hue=\"GR\",\n",
    "    cumulative=True, common_norm=False, common_grid=False, hue_order=['A', 'B', 'C'], palette=[\"Blue\", \"Green\", 'Purple'],\n",
    ")"
   ]
  },
  {
   "cell_type": "code",
   "execution_count": null,
   "metadata": {},
   "outputs": [],
   "source": [
    "data=pd.DataFrame()\n",
    "data['GR'] = y_test.GR\n",
    "data[\"Probability\"] = RF_best.predict_proba(X_test_std)[:,1]\n",
    "plt.xlim(.0, 1.)\n",
    "g = sns.kdeplot(data[\"Probability\"][(data[\"GR\"] == \"A\") & (data[\"Probability\"].notnull())], color=\"Blue\", shade = True)\n",
    "g = sns.kdeplot(data[\"Probability\"][(data[\"GR\"] == \"B\") & (data[\"Probability\"].notnull())], ax =g, color=\"Green\", shade= True)\n",
    "g = sns.kdeplot(data[\"Probability\"][(data[\"GR\"] == \"C\") & (data[\"Probability\"].notnull())], ax =g, color=\"Purple\", shade= True)\n",
    "g.set_xlabel(\"Probability\")\n",
    "g.set_ylabel(\"Count\")\n",
    "g = g.legend([\"A\",\"B\", \"C\"])"
   ]
  },
  {
   "cell_type": "code",
   "execution_count": null,
   "metadata": {},
   "outputs": [],
   "source": [
    "plt.xlim(.0, 1.)\n",
    "\n",
    "sns.kdeplot(\n",
    "    data=data, x=\"Probability\", hue=\"GR\",\n",
    "    cumulative=True, common_norm=False, common_grid=False, hue_order=['A', 'B', 'C'], palette=[\"Blue\", \"Green\", 'Purple'],\n",
    ")"
   ]
  },
  {
   "cell_type": "code",
   "execution_count": null,
   "metadata": {},
   "outputs": [],
   "source": [
    "data=pd.DataFrame()\n",
    "data['GR'] = y_test.GR\n",
    "data[\"Probability\"] = RF_best.predict_proba(X_test_std)[:,2]\n",
    "plt.xlim(.0, 1.)\n",
    "g = sns.kdeplot(data[\"Probability\"][(data[\"GR\"] == \"A\") & (data[\"Probability\"].notnull())], color=\"Blue\", shade = True)\n",
    "g = sns.kdeplot(data[\"Probability\"][(data[\"GR\"] == \"B\") & (data[\"Probability\"].notnull())], ax =g, color=\"Green\", shade= True)\n",
    "g = sns.kdeplot(data[\"Probability\"][(data[\"GR\"] == \"C\") & (data[\"Probability\"].notnull())], ax =g, color=\"Purple\", shade= True)\n",
    "g.set_xlabel(\"Probability\")\n",
    "g.set_ylabel(\"Count\")\n",
    "g = g.legend([\"A\",\"B\", \"C\"])"
   ]
  },
  {
   "cell_type": "code",
   "execution_count": null,
   "metadata": {},
   "outputs": [],
   "source": [
    "plt.xlim(.0, 1.)\n",
    "\n",
    "sns.kdeplot(\n",
    "    data=data, x=\"Probability\", hue=\"GR\",\n",
    "    cumulative=True, common_norm=False, common_grid=False, hue_order=['A', 'B', 'C'], palette=[\"Blue\", \"Green\", 'Purple'],\n",
    ")"
   ]
  },
  {
   "cell_type": "code",
   "execution_count": null,
   "metadata": {},
   "outputs": [],
   "source": [
    "RF_best.estimators_[0]"
   ]
  },
  {
   "cell_type": "code",
   "execution_count": null,
   "metadata": {},
   "outputs": [],
   "source": [
    "tree_small_0 = RF_best.estimators_[0]\n",
    "tree_small_1 = RF_best.estimators_[1]\n",
    "feature_list = list(X_train.columns)\n",
    "name_list = ['A', 'B', 'C']"
   ]
  },
  {
   "cell_type": "code",
   "execution_count": null,
   "metadata": {},
   "outputs": [],
   "source": [
    "# export_graphviz(tree_small_0, out_file = 'tree_0_smote.dot', feature_names = feature_list, class_names = name_list,  rounded = True, precision = 1, filled = True)\n",
    "# export_graphviz(tree_small_1, out_file = 'tree_1_smote.dot', feature_names = feature_list, class_names = name_list,  rounded = True, precision = 1, filled = True)\n",
    "\n",
    "# !dot -Tpng tree.dot -o small_tree.png -Gdpi=600"
   ]
  },
  {
   "cell_type": "code",
   "execution_count": null,
   "metadata": {},
   "outputs": [],
   "source": [
    "# Image(filename = 'images/small_tree_0_smote.png')"
   ]
  },
  {
   "cell_type": "code",
   "execution_count": null,
   "metadata": {},
   "outputs": [],
   "source": [
    "# Image(filename = 'images/small_tree_1_smote.png')"
   ]
  },
  {
   "cell_type": "code",
   "execution_count": null,
   "metadata": {},
   "outputs": [],
   "source": [
    "names_classifiers = [(\"Random Forest\",RF_best)]\n",
    "classifier = names_classifiers[0][1]\n",
    "name = names_classifiers[0][0]\n",
    "indices = np.argsort(classifier.feature_importances_)[::-1][:40]\n",
    "g = sns.barplot(y=X_train.columns[indices][:40],x = classifier.feature_importances_[indices][:40] , orient='h')\n",
    "g.set_xlabel(\"Relative importance\",fontsize=12)\n",
    "g.set_ylabel(\"Features\",fontsize=12)\n",
    "g.tick_params(labelsize=9)\n",
    "g.set_title(name + \" feature importance\")"
   ]
  },
  {
   "cell_type": "code",
   "execution_count": null,
   "metadata": {},
   "outputs": [],
   "source": [
    "explainer = shap.TreeExplainer(RF_best)\n",
    "shap_values = explainer.shap_values(X_train_std)"
   ]
  },
  {
   "cell_type": "code",
   "execution_count": null,
   "metadata": {},
   "outputs": [],
   "source": [
    "# indices = np.argsort(shap_values)[::-1]\n",
    "# X_train.columns[indices]"
   ]
  },
  {
   "cell_type": "code",
   "execution_count": null,
   "metadata": {},
   "outputs": [],
   "source": [
    "shap.summary_plot(shap_values, X_train_std, class_names= ['A', 'B', 'C'], feature_names = X_train.columns.tolist())"
   ]
  },
  {
   "cell_type": "code",
   "execution_count": null,
   "metadata": {},
   "outputs": [],
   "source": [
    "shap.summary_plot(shap_values[0], X_train_std, feature_names = X_train.columns.tolist())\n",
    "shap.summary_plot(shap_values[1], X_train_std, feature_names = X_train.columns.tolist())\n",
    "shap.summary_plot(shap_values[2], X_train_std, feature_names = X_train.columns.tolist())"
   ]
  },
  {
   "cell_type": "code",
   "execution_count": null,
   "metadata": {},
   "outputs": [],
   "source": [
    "for name in X_train.columns:\n",
    "    shap.dependence_plot(name, shap_values[0], X_train_std, display_features=X_train)"
   ]
  },
  {
   "cell_type": "code",
   "execution_count": null,
   "metadata": {},
   "outputs": [],
   "source": [
    "for name in X_train.columns:\n",
    "    shap.dependence_plot(name, shap_values[1], X_train_std, display_features=X_train)"
   ]
  },
  {
   "cell_type": "code",
   "execution_count": null,
   "metadata": {},
   "outputs": [],
   "source": [
    "for name in X_train.columns:\n",
    "    shap.dependence_plot(name, shap_values[2], X_train_std, display_features=X_train)"
   ]
  },
  {
   "cell_type": "code",
   "execution_count": null,
   "metadata": {},
   "outputs": [],
   "source": [
    "shap.force_plot(explainer.expected_value[0], shap_values[0][1,:], X_train.iloc[1,:], matplotlib=True)\n",
    "shap.force_plot(explainer.expected_value[1], shap_values[1][1,:], X_train.iloc[1,:], matplotlib=True)\n",
    "shap.force_plot(explainer.expected_value[2], shap_values[2][1,:], X_train.iloc[1,:], matplotlib=True)"
   ]
  },
  {
   "cell_type": "code",
   "execution_count": null,
   "metadata": {},
   "outputs": [],
   "source": [
    "X_train.head(1)"
   ]
  },
  {
   "cell_type": "code",
   "execution_count": null,
   "metadata": {},
   "outputs": [],
   "source": [
    "y_train"
   ]
  },
  {
   "cell_type": "code",
   "execution_count": null,
   "metadata": {},
   "outputs": [],
   "source": [
    "# shap.initjs()\n",
    "# shap.force_plot(explainer.expected_value[1], shap_values[1][:,:], X_resampled.iloc[:,:])"
   ]
  },
  {
   "cell_type": "markdown",
   "metadata": {},
   "source": [
    "### Support Vector Machine"
   ]
  },
  {
   "cell_type": "code",
   "execution_count": null,
   "metadata": {},
   "outputs": [],
   "source": [
    "filename = './models/SVM_best_bayes.sav'\n",
    "\n",
    "SVM_best = joblib.load(filename)\n",
    "y_pred_svm = SVM_best.predict(X_test)\n",
    "plot_roc_curve(y_test_enc, y_pred_svm)"
   ]
  },
  {
   "cell_type": "code",
   "execution_count": null,
   "metadata": {},
   "outputs": [],
   "source": [
    "# fit_and_print_v2(SVM_best, X_test)\n",
    "\n",
    "fit_and_print_v2(SVM_best, X_test_std)"
   ]
  },
  {
   "cell_type": "markdown",
   "metadata": {},
   "source": [
    "### Logistic Regression "
   ]
  },
  {
   "cell_type": "code",
   "execution_count": null,
   "metadata": {},
   "outputs": [],
   "source": [
    "filename = './models/LR_best_bayes.sav'\n",
    "\n",
    "LR_best = joblib.load(filename)\n",
    "y_pred = LR_best.predict(X_test)\n",
    "plot_roc_curve(y_test_enc, y_pred)"
   ]
  },
  {
   "cell_type": "code",
   "execution_count": null,
   "metadata": {},
   "outputs": [],
   "source": [
    "# fit_and_print(LR_best, X_test, y_test_enc)\n",
    "\n",
    "fit_and_print_v2(LR_best, X_test_std)"
   ]
  },
  {
   "cell_type": "markdown",
   "metadata": {},
   "source": [
    "### KNN"
   ]
  },
  {
   "cell_type": "code",
   "execution_count": null,
   "metadata": {},
   "outputs": [],
   "source": [
    "filename = './models/KNN_best_bayes.sav'\n",
    "\n",
    "KNN_best = joblib.load(filename)\n",
    "y_pred = KNN_best.predict(X_test)\n",
    "plot_roc_curve(y_test_enc, y_pred)"
   ]
  },
  {
   "cell_type": "code",
   "execution_count": null,
   "metadata": {},
   "outputs": [],
   "source": [
    "# fit_and_print(KNN_best, X_test, y_test_enc)\n",
    "fit_and_print_v2(KNN_best, X_test_std)"
   ]
  },
  {
   "cell_type": "code",
   "execution_count": null,
   "metadata": {},
   "outputs": [],
   "source": [
    "# fit_and_print(KNN_best, X_train, y_train_enc)"
   ]
  },
  {
   "cell_type": "markdown",
   "metadata": {},
   "source": [
    "### GBM"
   ]
  },
  {
   "cell_type": "code",
   "execution_count": null,
   "metadata": {},
   "outputs": [],
   "source": [
    "filename = './models/GBM_best_bayes.sav'\n",
    "\n",
    "GBM_best = joblib.load(filename)\n",
    "y_pred = GBM_best.predict(X_test)\n",
    "plot_roc_curve(y_test_enc, y_pred)"
   ]
  },
  {
   "cell_type": "code",
   "execution_count": null,
   "metadata": {},
   "outputs": [],
   "source": [
    "# fit_and_print(GBM_best, X_test, y_test_enc)\n",
    "fit_and_print_v2(GBM_best, X_test_std)"
   ]
  },
  {
   "cell_type": "code",
   "execution_count": null,
   "metadata": {},
   "outputs": [],
   "source": []
  }
 ],
 "metadata": {
  "kernelspec": {
   "display_name": "master",
   "language": "python",
   "name": "python3"
  },
  "language_info": {
   "codemirror_mode": {
    "name": "ipython",
    "version": 3
   },
   "file_extension": ".py",
   "mimetype": "text/x-python",
   "name": "python",
   "nbconvert_exporter": "python",
   "pygments_lexer": "ipython3",
   "version": "3.11.9"
  }
 },
 "nbformat": 4,
 "nbformat_minor": 2
}
